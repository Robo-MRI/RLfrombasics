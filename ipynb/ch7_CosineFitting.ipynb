{
 "cells": [
  {
   "cell_type": "code",
   "execution_count": 1,
   "metadata": {},
   "outputs": [],
   "source": [
    "import torch\n",
    "import torch.nn as nn\n",
    "import torch.nn.functional as F\n",
    "import torch.optim as optim\n",
    "import numpy as np\n",
    "import matplotlib.pyplot as plt\n",
    "\n",
    "# Device configuration\n",
    "device = torch.device(\"cuda\" if torch.cuda.is_available() else \"cpu\")"
   ]
  },
  {
   "cell_type": "code",
   "execution_count": 2,
   "metadata": {},
   "outputs": [],
   "source": [
    "class Model(nn.Module):\n",
    "    def __init__(self):\n",
    "        super(Model, self).__init__()\n",
    "        self.fc1 = nn.Linear(1, 128)\n",
    "        self.fc2 = nn.Linear(128, 128)\n",
    "        self.fc3 = nn.Linear(128, 128)\n",
    "        self.fc4 = nn.Linear(128, 1, bias=False)\n",
    "\n",
    "    def forward(self, x):\n",
    "        x = F.relu(self.fc1(x))\n",
    "        x = F.relu(self.fc2(x))\n",
    "        x = F.relu(self.fc3(x))\n",
    "        x = self.fc4(x)\n",
    "        return x\n",
    "\n",
    "def true_fun(X):\n",
    "    noise = np.random.rand(X.shape[0]) * 0.4 - 0.2\n",
    "    return np.cos(1.5 * np.pi * X) + X + noise\n",
    "\n",
    "def plot_results(model):\n",
    "    x = np.linspace(0, 5, 100)\n",
    "    input_x = torch.from_numpy(x).float().unsqueeze(1)\n",
    "    plt.plot(x, true_fun(x), label=\"Truth\")\n",
    "    plt.plot(x, model(input_x).detach().numpy(), label=\"Prediction\")\n",
    "    plt.legend(loc='lower right',fontsize=15)\n",
    "    plt.xlim((0, 5))\n",
    "    plt.ylim((-1, 5))\n",
    "    plt.grid()\n",
    "\n",
    "def main():\n",
    "    data_x = np.random.rand(10000) * 5 # 0~5 사이 숫자 1만개를 샘플링하여 인풋으로 사용 \n",
    "    model = Model().to(device)\n",
    "    optimizer = optim.Adam(model.parameters(), lr=0.001)\n",
    "\n",
    "    for step in range(10000):\n",
    "        batch_x = np.random.choice(data_x, 32) # 랜덤하게 뽑힌 32개의 데이터로 mini-batch를 구성\n",
    "        batch_x_tensor = torch.from_numpy(batch_x).float().unsqueeze(1).to(device)\n",
    "        pred = model(batch_x_tensor)\n",
    "\n",
    "        batch_y = true_fun(batch_x)\n",
    "        truth = torch.from_numpy(batch_y).float().unsqueeze(1).to(device)\n",
    "        loss = F.mse_loss(pred, truth) # 손실 함수인 MSE를 계산하는 부분\n",
    "        \n",
    "        optimizer.zero_grad() \n",
    "        loss.mean().backward() # 역전파를 통한 그라디언트 계산이 일어나는 부분\n",
    "        optimizer.step() # 실제로 파라미터를 업데이트 하는 부분\n",
    "\n",
    "    plot_results(model.cpu())\n"
   ]
  },
  {
   "cell_type": "code",
   "execution_count": null,
   "metadata": {},
   "outputs": [
    {
     "name": "stdout",
     "output_type": "stream",
     "text": [
      "cuda\n"
     ]
    }
   ],
   "source": [
    "\n",
    "if __name__ == '__main__':\n",
    "    print(device)\n",
    "    main()"
   ]
  }
 ],
 "metadata": {
  "kernelspec": {
   "display_name": "reinforce",
   "language": "python",
   "name": "python3"
  },
  "language_info": {
   "codemirror_mode": {
    "name": "ipython",
    "version": 3
   },
   "file_extension": ".py",
   "mimetype": "text/x-python",
   "name": "python",
   "nbconvert_exporter": "python",
   "pygments_lexer": "ipython3",
   "version": "3.12.7"
  }
 },
 "nbformat": 4,
 "nbformat_minor": 2
}
